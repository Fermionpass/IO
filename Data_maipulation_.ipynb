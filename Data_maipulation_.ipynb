{
  "nbformat": 4,
  "nbformat_minor": 0,
  "metadata": {
    "colab": {
      "provenance": [],
      "authorship_tag": "ABX9TyNc3KARUMWN/h4Rw9WNaVrC",
      "include_colab_link": true
    },
    "kernelspec": {
      "name": "python3",
      "display_name": "Python 3"
    },
    "language_info": {
      "name": "python"
    }
  },
  "cells": [
    {
      "cell_type": "markdown",
      "metadata": {
        "id": "view-in-github",
        "colab_type": "text"
      },
      "source": [
        "<a href=\"https://colab.research.google.com/github/Fermionpass/IO/blob/main/Data_maipulation_.ipynb\" target=\"_parent\"><img src=\"https://colab.research.google.com/assets/colab-badge.svg\" alt=\"Open In Colab\"/></a>"
      ]
    },
    {
      "cell_type": "markdown",
      "source": [
        "<hr style=\"margin-bottom: 40px;\">\n",
        "\n",
        "# Manipulación de datos / Data maipulation\n",
        " Este Template tiene como objetivo poder manipular datos, ya sean datos generados artificialmente o  trabajar con bases de datos  recopilados\n",
        "o bien existentes en la red.\n",
        "\n",
        "Comenzaré con un repaso de *numpy* y  *pandas* ,como complemento se trabajará con la librería de *matplotlib* y Seaborn*, para poder visualizar\n",
        "los datos generados u obtenidos de la red.\n",
        "\n",
        "# Arreglos\n",
        "\n",
        "Los arreglos son un conjunto de datos ordenados en forma de secuencias, con estructura similar a listas. Estos arreglos represnetatn valores, los cuales pueden ser puntos flotantes, números enteros o caracteres.\n",
        "En particular los arreglos en *numpy*, los cuales generalmente son concebidos como matrices o vectores"
      ],
      "metadata": {
        "id": "9lhImtUhn5wN"
      }
    },
    {
      "cell_type": "code",
      "execution_count": null,
      "metadata": {
        "colab": {
          "base_uri": "https://localhost:8080/"
        },
        "id": "uEJLZM0Onz-B",
        "outputId": "854eedca-18e1-44a9-9b23-5aa15e0228c2"
      },
      "outputs": [
        {
          "output_type": "stream",
          "name": "stdout",
          "text": [
            "Este es un ejemplo de un arreglode una dimensión a = [1 2 3]\n"
          ]
        }
      ],
      "source": [
        "# Primero se va  importar la libreria de numpy para poder definir arreglos\n",
        "import numpy as np\n",
        "\n",
        "a =  np.array([1,2,3])\n",
        "print('Este es un ejemplo de un arreglode una dimensión a =', a)\n"
      ]
    },
    {
      "cell_type": "code",
      "source": [
        "# Numpy también permite la creación de arreglos de mayor dimensión\n",
        "b = np.array([[12,13],[14,15]])\n",
        "print('Este es un arreglo de una dimensión mayor b=', b)\n",
        "\n"
      ],
      "metadata": {
        "colab": {
          "base_uri": "https://localhost:8080/"
        },
        "id": "oKRRt8OMoab8",
        "outputId": "90e1b632-4d4d-46e2-d603-a134b91a0736"
      },
      "execution_count": null,
      "outputs": [
        {
          "output_type": "stream",
          "name": "stdout",
          "text": [
            "Este es un arreglo de una dimensión mayor b= [[12 13]\n",
            " [14 15]]\n"
          ]
        }
      ]
    },
    {
      "cell_type": "code",
      "source": [
        "c = np.array([3,4,5], dtype=complex)\n",
        "print('o de tipo definido c=', c)\n"
      ],
      "metadata": {
        "colab": {
          "base_uri": "https://localhost:8080/"
        },
        "id": "ZoxkFq1lrDw-",
        "outputId": "cddb393f-bbf6-4e9d-9c31-4491dd2bc31b"
      },
      "execution_count": null,
      "outputs": [
        {
          "output_type": "stream",
          "name": "stdout",
          "text": [
            "o de tipo definido c= [3.+0.j 4.+0.j 5.+0.j]\n"
          ]
        }
      ]
    },
    {
      "cell_type": "code",
      "source": [
        "#Podemos generar arreglos vacios, este comando no nos envia una matriz en cero, aunque\n",
        "#hay que establecer los valores de la matriz\n",
        "d = np.empty([2,2])\n",
        "print('Se define el tipo de arreglo o forma del arreglo de d = ', d)\n"
      ],
      "metadata": {
        "colab": {
          "base_uri": "https://localhost:8080/"
        },
        "id": "uU6zEXW0rofe",
        "outputId": "ccacd756-64a2-4f57-ffff-2d0af2f26f0c"
      },
      "execution_count": null,
      "outputs": [
        {
          "output_type": "stream",
          "name": "stdout",
          "text": [
            "Se define el tipo de arreglo o forma del arreglo de d =  [[5.9e-323 6.4e-323]\n",
            " [6.9e-323 7.4e-323]]\n"
          ]
        }
      ]
    },
    {
      "cell_type": "code",
      "source": [
        "#Numpy también nos permite definir el tipo de objeto en el arreglo y si\n",
        "#se trata de datos de orden multiple en forma de fila o columba en la memoria principal\n",
        "e = np.empty([3,3], dtype = int, order='F')\n",
        "print('Se definer el order en formato de  fortran para el arreglo e =',e)\n",
        "\n"
      ],
      "metadata": {
        "colab": {
          "base_uri": "https://localhost:8080/"
        },
        "id": "uxV_Fc4VtPV-",
        "outputId": "24ff6c06-500f-4900-b315-d164c5644835"
      },
      "execution_count": null,
      "outputs": [
        {
          "output_type": "stream",
          "name": "stdout",
          "text": [
            "Se definer el order en formato de  fortran para el arreglo e = [[4636737291354636288                   0                   0]\n",
            " [                  0 4636737291354636288                   0]\n",
            " [                  0                   0 4607182418800017408]]\n"
          ]
        }
      ]
    },
    {
      "cell_type": "code",
      "source": [
        "#Podemos incluso definir un arreglo de ceros o unos\n",
        "f=np.zeros([5,5],dtype=complex, order='F')\n",
        "print('Definimos un arreglo de ceros  f=', f)"
      ],
      "metadata": {
        "colab": {
          "base_uri": "https://localhost:8080/"
        },
        "id": "OLuqPg1Ivg-H",
        "outputId": "49e2c2da-0eed-46b2-c79a-c8b53223979f"
      },
      "execution_count": null,
      "outputs": [
        {
          "output_type": "stream",
          "name": "stdout",
          "text": [
            "Definimos un arreglo de ceros  f= [[0.+0.j 0.+0.j 0.+0.j 0.+0.j 0.+0.j]\n",
            " [0.+0.j 0.+0.j 0.+0.j 0.+0.j 0.+0.j]\n",
            " [0.+0.j 0.+0.j 0.+0.j 0.+0.j 0.+0.j]\n",
            " [0.+0.j 0.+0.j 0.+0.j 0.+0.j 0.+0.j]\n",
            " [0.+0.j 0.+0.j 0.+0.j 0.+0.j 0.+0.j]]\n"
          ]
        }
      ]
    },
    {
      "cell_type": "code",
      "source": [
        "# Podemos generar un arreglo de numeros espaciados uniformemente en un intervalo especifico\n",
        "# [inicio, final], y además definir el tipo de valor.\n",
        "g = np.linspace(2,6, num=10, dtype=int)\n",
        "print('Generamos un arreglo de 10 valores enteros  en el intervalo [2,6], g= ',g)\n",
        "#Aunqe el tipo de valor puede ser diferente y con o sin punto final."
      ],
      "metadata": {
        "colab": {
          "base_uri": "https://localhost:8080/"
        },
        "id": "Klj835R_wSnu",
        "outputId": "c1c181aa-49ce-4afc-eedd-6440b1a1b3ad"
      },
      "execution_count": null,
      "outputs": [
        {
          "output_type": "stream",
          "name": "stdout",
          "text": [
            "Generamos un arreglo de 10 valores enteros  en el intervalo [2,6], g=  [2 2 2 3 3 4 4 5 5 6]\n"
          ]
        }
      ]
    },
    {
      "cell_type": "markdown",
      "source": [
        "# Graficas  generadas con linspace y matplolib\n",
        "Con la librería de matplotlib y numpy podemos crear visualizaciones de nuestros datos, como si representarmos los valores de una función, por ejemplo podemos generar una grafica para la función f(x) = x^2.\n",
        "\n"
      ],
      "metadata": {
        "id": "BoQicVFjyIe_"
      }
    },
    {
      "cell_type": "code",
      "source": [
        "# Primero importamos la libreria de matplolib y numpy, debemos también definir el intevalo  de nuestra función\n",
        "#en este caso vamos a tomar los valores entre 0 y 9, pero unicamente los enteros\n",
        "import matplotlib.pyplot as plt\n",
        "\n",
        "#definimos nuestra función\n",
        "\n",
        "def f(x):\n",
        "  return x**2\n",
        "#definimos nuestro intervalo\n",
        "x1 = np.linspace(0,9, num = 10, dtype= int)\n",
        "\n",
        "#definimos nuestra grafica\n",
        "plt.plot(x1,f(x1),'o')\n",
        "\n",
        "plt.show()\n",
        "\n",
        "\n",
        "\n",
        "\n"
      ],
      "metadata": {
        "colab": {
          "base_uri": "https://localhost:8080/",
          "height": 430
        },
        "id": "xgt0T9QYw6vJ",
        "outputId": "d31ea16f-ad6c-46e7-db59-de746d5818d6"
      },
      "execution_count": null,
      "outputs": [
        {
          "output_type": "display_data",
          "data": {
            "text/plain": [
              "<Figure size 640x480 with 1 Axes>"
            ],
            "image/png": "[encoded data removed]"
          },
          "metadata": {}
        }
      ]
    },
    {
      "cell_type": "code",
      "source": [
        "# Aunque en el ejemplo anterior definimos una función para  crear nuestra grafica,\n",
        "#también podemos hacerlo desde la libreria de matplotlib al definir la curva que deseamos ver\n",
        "#Definimos otro intervalo para las siguientes graficas\n",
        "\n",
        "x = np.linspace(0,2,100) # en este ejmplo omitimos algunos datos, pero el resultado es el mismo\n",
        "\n",
        "plt.plot(x,x, label='lineal') # label nos permite asignar una etiqueta a nuestra curva\n",
        "plt.plot(x,x**2, label='cuadratica')\n",
        "plt.plot(x, x**3, label='cubica')\n",
        "\n",
        "#Podemos agragar etiquetas a los ejes\n",
        "\n",
        "plt.xlabel('x')\n",
        "plt.ylabel('y')\n",
        "\n",
        "#Agregamos un titulo a  nuestra grafica\n",
        "plt.title('Curvas')\n",
        "\n",
        "plt.legend() # nos agrea la leyenda de  nuestras curvas.\n",
        "plt.show()\n",
        "\n"
      ],
      "metadata": {
        "colab": {
          "base_uri": "https://localhost:8080/",
          "height": 477
        },
        "id": "qnoLesRT0Kj-",
        "outputId": "3c39f545-33b4-4d88-e094-3c75ac13a40e"
      },
      "execution_count": null,
      "outputs": [
        {
          "output_type": "display_data",
          "data": {
            "text/plain": [
              "<Figure size 640x480 with 1 Axes>"
            ],
            "image/png": "[encoded data removed]"
          },
          "metadata": {}
        }
      ]
    },
    {
      "cell_type": "markdown",
      "source": [
        "*Numpy* también nos permite generear matrices de distintos tipos, indentidad o diagonales."
      ],
      "metadata": {
        "id": "F1IIf1xO3LKB"
      }
    },
    {
      "cell_type": "code",
      "source": [
        "#Empleamos la rutina eye para generar una matriz de 3x3 diagonal\n",
        "\n",
        "h = np.eye(3, dtype=int)\n",
        "print('creamos una matriz de 3x3 diagonal h=', h)\n",
        "\n"
      ],
      "metadata": {
        "colab": {
          "base_uri": "https://localhost:8080/"
        },
        "id": "OAmFq0E32tSV",
        "outputId": "064af747-a2ad-4d42-c499-22142b364b59"
      },
      "execution_count": null,
      "outputs": [
        {
          "output_type": "stream",
          "name": "stdout",
          "text": [
            "creamos una matriz de 3x3 diagonal h= [[1 0 0]\n",
            " [0 1 0]\n",
            " [0 0 1]]\n"
          ]
        }
      ]
    },
    {
      "cell_type": "code",
      "source": [
        "#una manera más simple\n",
        "I = np.identity(3)\n",
        "print('muestra la matriz identidad I=',I)"
      ],
      "metadata": {
        "colab": {
          "base_uri": "https://localhost:8080/"
        },
        "id": "JiPIPwYS4Fr-",
        "outputId": "5212ce67-32d2-48c7-be37-5c0dfc3acb9c"
      },
      "execution_count": null,
      "outputs": [
        {
          "output_type": "stream",
          "name": "stdout",
          "text": [
            "muestra la matriz identidad I= [[1. 0. 0.]\n",
            " [0. 1. 0.]\n",
            " [0. 0. 1.]]\n"
          ]
        }
      ]
    },
    {
      "cell_type": "code",
      "source": [
        "#Se puede cambiar el orden de la diagonal principal,siendo las opciones: 0 corresponde a la\n",
        "#diagonal principa,  k>0 una diagonal superior  y para 0>k un a diagonal inferior\n",
        "\n",
        "\n",
        "J = np.eye(3,k=0)\n",
        "\n",
        "L = np.eye(3,k=1)\n",
        "\n",
        "M = np.eye(3,k=-1)\n",
        "\n",
        "print('Para k=0, tenemos la diagonal principal en J=',J)\n",
        "print('Para k=1, tenemos la diagonal superior en L=',L)\n",
        "print('Para k=-1, tenemos la diagonal inferior en K=',M)\n"
      ],
      "metadata": {
        "colab": {
          "base_uri": "https://localhost:8080/"
        },
        "id": "yFl4rRGv4bTu",
        "outputId": "ac058add-9a42-4686-bb12-4d22b8c2a217"
      },
      "execution_count": null,
      "outputs": [
        {
          "output_type": "stream",
          "name": "stdout",
          "text": [
            "Para k=0, tenemos la diagonal principal en J= [[1. 0. 0.]\n",
            " [0. 1. 0.]\n",
            " [0. 0. 1.]]\n",
            "Para k=1, tenemos la diagonal superior en L= [[0. 1. 0.]\n",
            " [0. 0. 1.]\n",
            " [0. 0. 0.]]\n",
            "Para k=-1, tenemos la diagonal inferior en K= [[0. 0. 0.]\n",
            " [1. 0. 0.]\n",
            " [0. 1. 0.]]\n"
          ]
        }
      ]
    },
    {
      "cell_type": "code",
      "source": [
        "#Arreglos de unos\n",
        "N=np.ones(7)\n",
        "\n",
        "print('Podemos generar un arreglo de unos como N=',N)"
      ],
      "metadata": {
        "colab": {
          "base_uri": "https://localhost:8080/"
        },
        "id": "8LmSyzUVPz8F",
        "outputId": "a0b050d5-edf6-4d96-df14-95f07a913035"
      },
      "execution_count": null,
      "outputs": [
        {
          "output_type": "stream",
          "name": "stdout",
          "text": [
            "Podemos generar un arreglo de unos como N= [1. 1. 1. 1. 1. 1. 1.]\n"
          ]
        }
      ]
    },
    {
      "cell_type": "code",
      "source": [
        "X2 = np.arange(6)\n",
        "\n",
        "print(X2)"
      ],
      "metadata": {
        "colab": {
          "base_uri": "https://localhost:8080/"
        },
        "id": "4enznr1FQonU",
        "outputId": "21810266-dabb-4402-f7fb-4f2b00a913f9"
      },
      "execution_count": null,
      "outputs": [
        {
          "output_type": "stream",
          "name": "stdout",
          "text": [
            "[0 1 2 3 4 5]\n"
          ]
        }
      ]
    },
    {
      "cell_type": "code",
      "source": [
        "X2= X2.reshape((2,3))\n",
        "\n",
        "print(X2)"
      ],
      "metadata": {
        "colab": {
          "base_uri": "https://localhost:8080/"
        },
        "id": "7RdMg0yYRPY2",
        "outputId": "345e315b-a166-4b65-e2e9-48ad211749ca"
      },
      "execution_count": null,
      "outputs": [
        {
          "output_type": "stream",
          "name": "stdout",
          "text": [
            "[[0 1 2]\n",
            " [3 4 5]]\n"
          ]
        }
      ]
    },
    {
      "cell_type": "code",
      "source": [
        "Y =np.ones_like(X2)\n",
        "\n",
        "print(Y)"
      ],
      "metadata": {
        "colab": {
          "base_uri": "https://localhost:8080/"
        },
        "id": "rHa6ZhgNRk3F",
        "outputId": "2e9498d0-ec54-4340-b9d0-dadddb4041c3"
      },
      "execution_count": null,
      "outputs": [
        {
          "output_type": "stream",
          "name": "stdout",
          "text": [
            "[[1 1 1]\n",
            " [1 1 1]]\n"
          ]
        }
      ]
    },
    {
      "cell_type": "code",
      "source": [
        "#ceros\n",
        "X4=np.zeros(7)\n",
        "print(X4)"
      ],
      "metadata": {
        "colab": {
          "base_uri": "https://localhost:8080/"
        },
        "id": "NLaFD7pPR5-l",
        "outputId": "57276f2d-5773-425b-d736-76b8980fa23f"
      },
      "execution_count": null,
      "outputs": [
        {
          "output_type": "stream",
          "name": "stdout",
          "text": [
            "[0. 0. 0. 0. 0. 0. 0.]\n"
          ]
        }
      ]
    },
    {
      "cell_type": "markdown",
      "source": [
        "#Matriz"
      ],
      "metadata": {
        "id": "-P-MGQ0qY2NI"
      }
    },
    {
      "cell_type": "code",
      "source": [
        "# El objeto que vamos a crear es una matriz, en numpy podemos definir\n",
        "#las matrices de diferentes maneras, desde el tipo hasta el número\n",
        "# de elementos mínimos de la matriz\n",
        "X5 = np.array([1,2,3])\n",
        "print('Creamos una matriz de 1x3 y es la matriz X5=',X5)"
      ],
      "metadata": {
        "colab": {
          "base_uri": "https://localhost:8080/"
        },
        "id": "x6E4xYKxW6aR",
        "outputId": "3512e9f7-5185-49f2-9a1c-53bf1c38feea"
      },
      "execution_count": null,
      "outputs": [
        {
          "output_type": "stream",
          "name": "stdout",
          "text": [
            "Creamos una matriz de 1x3 y es la matriz X5= [1 2 3]\n"
          ]
        }
      ]
    },
    {
      "cell_type": "code",
      "source": [
        "#Una matriz de más de una dimensión\n",
        "X6 = np.array([[5,6],[7,8]])\n",
        "print('En python se pueden representar matrices de más de una dimensión como X6=',X6)\n"
      ],
      "metadata": {
        "colab": {
          "base_uri": "https://localhost:8080/"
        },
        "id": "2U3DNHqxZX0G",
        "outputId": "58996e3c-a0bf-4ec2-8495-eb1a68335fb1"
      },
      "execution_count": null,
      "outputs": [
        {
          "output_type": "stream",
          "name": "stdout",
          "text": [
            "En python se pueden representar matrices de más de una dimensión como X6= [[5 6]\n",
            " [7 8]]\n"
          ]
        }
      ]
    },
    {
      "cell_type": "code",
      "source": [
        "#Matriz con diferente dimensión\n",
        "\n",
        "X7 = np.array([1, 2, 3], ndmin=7)\n",
        "\n",
        "print('veamos que tipo de matriz nos da X7=', X7)"
      ],
      "metadata": {
        "colab": {
          "base_uri": "https://localhost:8080/"
        },
        "id": "f88aB0tGagz3",
        "outputId": "d981510e-cecd-47fc-af05-b8a2a9931d15"
      },
      "execution_count": null,
      "outputs": [
        {
          "output_type": "stream",
          "name": "stdout",
          "text": [
            "veamos que tipo de matriz nos da X7= [[[[[[[1 2 3]]]]]]]\n"
          ]
        }
      ]
    },
    {
      "cell_type": "code",
      "source": [
        "#Matrices apartir de subclases\n",
        "\n",
        "X8=np.array(np.mat('5 6;8 9'), subok=True)\n",
        "print(X8)"
      ],
      "metadata": {
        "colab": {
          "base_uri": "https://localhost:8080/"
        },
        "id": "GvLn-O2la_fo",
        "outputId": "bf295e83-0f96-483c-9659-8477506e171f"
      },
      "execution_count": null,
      "outputs": [
        {
          "output_type": "stream",
          "name": "stdout",
          "text": [
            "[[5 6]\n",
            " [8 9]]\n"
          ]
        }
      ]
    },
    {
      "cell_type": "markdown",
      "source": [
        "Arange\n",
        "nos devuelve valores  uniformemente espaciados de un intervalo dado, y sus valores se generan dentro de un intervalo  medio abierto.\n",
        "- Tambien los valores se generan dentro de un intervalo medio abierto, con un espacio entre valores dado por (star, stop, step).\n",
        "También  nos permite trabajar con *matplolib*, para poder crear figuras y graficas diversas."
      ],
      "metadata": {
        "id": "l0jle0dPcyJw"
      }
    },
    {
      "cell_type": "code",
      "source": [
        "#Entonces vamos a ver como se genera el arreglo con arange\n",
        "Y1 = np.arange(-9,9,0.5, dtype=int)\n",
        "print(\"Con arange obtenemos siguiente tipo de arreglos Y1\",Y1)"
      ],
      "metadata": {
        "colab": {
          "base_uri": "https://localhost:8080/"
        },
        "id": "bcQy11Dxblc3",
        "outputId": "972ed2fb-26cf-4358-df89-b7a627bc8290"
      },
      "execution_count": null,
      "outputs": [
        {
          "output_type": "stream",
          "name": "stdout",
          "text": [
            "Con arange obtenemos siguiente tipo de arreglos Y1 [-9 -8 -7 -6 -5 -4 -3 -2 -1  0  1  2  3  4  5  6  7  8  9 10 11 12 13 14\n",
            " 15 16 17 18 19 20 21 22 23 24 25 26]\n"
          ]
        }
      ]
    },
    {
      "cell_type": "code",
      "source": [
        "#Aunque debemos tener en cuenta posibles errores con este tipo de arreglos, por ejemplo\n",
        "\n",
        "potencia = 30\n",
        "modulo = 10000\n",
        "\n",
        "x1 = [(n**potencia) % modulo for n in range(8)]\n",
        "x2 = [(n**potencia) % modulo for n in np.arange(8)]\n",
        "print(x1, 'correcto')\n",
        "print(x2, 'incorrecto')"
      ],
      "metadata": {
        "colab": {
          "base_uri": "https://localhost:8080/"
        },
        "id": "NXIgCHOTeg8Y",
        "outputId": "ffe1f15c-1dc6-4b00-9ca6-c11f581b97af"
      },
      "execution_count": null,
      "outputs": [
        {
          "output_type": "stream",
          "name": "stdout",
          "text": [
            "[0, 1, 1824, 4649, 6976, 5625, 9776, 3249] correcto\n",
            "[0, 1, 1824, 4649, 6976, 4825, 3632, 7489] incorrecto\n"
          ]
        }
      ]
    },
    {
      "cell_type": "code",
      "source": [
        "# Entonces numpy nos permite definir un  intervalo para poder\n",
        "# delimitar los valores que toma nuesta gráfica\n",
        "#definimos una figura vacia y sin ejes\n",
        "#fig = plt.figure()\n",
        "#fig.suptitle('grafica creada con numpy.arange')\n",
        "#z = np.arange(0,20,0.2)\n",
        "#p = np.sin(z) # entonces numpy también trabaja con funciones trigonometricas\n",
        "#fig, ax=plt.subplots() #creamos una figura y un conjunto de sub-graficos\n",
        "#ax.plot(z,p, markevery=10)\n",
        "#plt.xlabel('x')\n",
        "#plt.ylabel('y')\n",
        "\n",
        "#plt.title(\"Función seno, generada con numpy arange\")\n",
        "#plt.show()\n",
        "\n"
      ],
      "metadata": {
        "id": "wYsvjD1ZfcOI"
      },
      "execution_count": null,
      "outputs": []
    },
    {
      "cell_type": "code",
      "source": [
        "#Se puede también crear un trazado de varias lineas con diferentes estlios\n",
        "#de formato en un comando utilizando matrices (arange)\n",
        "#Antes de empezar vamos importar mplstyle, para ver nuestras graficas con otros\n",
        "#estilos\n",
        "import matplotlib.style as mplstyle\n",
        "mplstyle.use('fast')\n",
        "mplstyle.use(['ggplot','fast'])\n",
        "#definimos un tiempo de muestreo en intervalos de 200 ms\n",
        "\n",
        "t=np.arange(0.,1.,0.2)\n",
        "\n",
        "#Definimos con guiones rojos, cuadrados azules y triángulos verdes las lineas\n",
        "plt.plot(t,t,'r--',t**2,'bs',t,t**3,'g^')\n",
        "plt.show()\n"
      ],
      "metadata": {
        "colab": {
          "base_uri": "https://localhost:8080/",
          "height": 430
        },
        "id": "etT8-ZF_l5x4",
        "outputId": "2d64cc24-bd4d-414b-a2e7-321abd2932cf"
      },
      "execution_count": null,
      "outputs": [
        {
          "output_type": "display_data",
          "data": {
            "text/plain": [
              "<Figure size 640x480 with 1 Axes>"
            ],
            "image/png": "[encoded data removed]"
          },
          "metadata": {}
        }
      ]
    },
    {
      "cell_type": "code",
      "source": [],
      "metadata": {
        "id": "4Oacc2kOoQMZ"
      },
      "execution_count": null,
      "outputs": []
    },
    {
      "cell_type": "markdown",
      "source": [
        "Podemos cuidar algunos atributos de nuestrs líneas, ya sea el ancho de la linea, si esta suavizada, estilo de guión. Utilizando argumentos clave."
      ],
      "metadata": {
        "id": "BEs8GSC4q5MM"
      }
    },
    {
      "cell_type": "code",
      "source": [
        "x = np.arange(0, 10,0.2)\n",
        "y = np.sin(x)\n",
        "plt.plot(x,y, linewidth= 2.0)"
      ],
      "metadata": {
        "colab": {
          "base_uri": "https://localhost:8080/",
          "height": 447
        },
        "id": "WNdj6okDrKiz",
        "outputId": "21da4f29-de8d-4572-b482-6e1edf9c74ed"
      },
      "execution_count": null,
      "outputs": [
        {
          "output_type": "execute_result",
          "data": {
            "text/plain": [
              "[<matplotlib.lines.Line2D at 0x798a26ee7f40>]"
            ]
          },
          "metadata": {},
          "execution_count": 149
        },
        {
          "output_type": "display_data",
          "data": {
            "text/plain": [
              "<Figure size 640x480 with 1 Axes>"
            ],
            "image/png": "[encoded data removed]"
          },
          "metadata": {}
        }
      ]
    },
    {
      "cell_type": "markdown",
      "source": [
        "También podemos establecer una instancia de Linea2D, que nos devuelve una lista de objetos 2D, un ejemplo puede ser:\n",
        "\n",
        "\n",
        "```\n",
        "# line1,line2 = plot(x1,y1,x2,y2)\n",
        "```\n",
        "En el siguiente ejemplo vamos a suponer que estamos trabajando con una sola línea,  entonces la longitud devuelta es 1. En estos casos se utiliza el desempaquetado de tuplas con linea, para obtener el primer elemento de la lista:\n"
      ],
      "metadata": {
        "id": "j_6m7I6orYmz"
      }
    },
    {
      "cell_type": "code",
      "source": [
        "line, = plt.plot(x,y,'-')\n",
        "line.set_antialiased(False) #desactivar el antialiasing"
      ],
      "metadata": {
        "colab": {
          "base_uri": "https://localhost:8080/",
          "height": 430
        },
        "id": "MI5v4CO6rbOr",
        "outputId": "dbeef947-759b-4fc6-b0dc-6c3abd0719b7"
      },
      "execution_count": null,
      "outputs": [
        {
          "output_type": "display_data",
          "data": {
            "text/plain": [
              "<Figure size 640x480 with 1 Axes>"
            ],
            "image/png": "[encoded data removed]"
          },
          "metadata": {}
        }
      ]
    },
    {
      "cell_type": "markdown",
      "source": [
        "# **Diccionarios**\n",
        "Antes de continuar con los ejemplos de numpy arange,  voy a detenerme en un tipo  de estructura que nos ayudará a definir las siguientes graficas.\n",
        "\n",
        "Los *diccionarios* definen una relación  entre claves y valores. Estos *diccionarios* tienen atributos que estan asociados a keys, items y values:\n",
        "\n",
        "-*keys*: indican palabras clave = key()\n",
        "\n",
        "-*items*: indican a valores y palabras clave =items()\n",
        "\n",
        "-*values*: indican valores del diccionario = values()"
      ],
      "metadata": {
        "id": "HWztldzyujSF"
      }
    },
    {
      "cell_type": "code",
      "source": [
        "# Vamos a definir un  diccionario de estados y sus capitales  de México\n",
        "\n",
        "mexico = {'Aguascalientes':'Aguascalientes','Baja California':'Mexicali','Campeche':'San Francisco de Campeche','Chihuahua':'Chihuahua','Chiapas':'Tuxtla Gutiérrez'}\n",
        "print(mexico)"
      ],
      "metadata": {
        "id": "B-uNajE4sTmS",
        "colab": {
          "base_uri": "https://localhost:8080/"
        },
        "outputId": "ffc14a97-e733-44dc-8c1a-f0c945fefa1f"
      },
      "execution_count": 152,
      "outputs": [
        {
          "output_type": "stream",
          "name": "stdout",
          "text": [
            "{'Aguascalientes': 'Aguascalientes', 'Baja California': 'Mexicali', 'Campeche': 'San Francisco de Campeche', 'Chihuahua': 'Chihuahua', 'Chiapas': 'Tuxtla Gutiérrez'}\n"
          ]
        }
      ]
    },
    {
      "cell_type": "code",
      "source": [
        "#Podemos revisar cuales son las claves en mexico con el método keys(), sobre mexico\n",
        "#la salida se puede implimir\n",
        "#Imprimimos las salidas de las claves de mexico\n",
        "\n",
        "print(mexico.keys())"
      ],
      "metadata": {
        "colab": {
          "base_uri": "https://localhost:8080/"
        },
        "id": "lfdtZp-Ax08c",
        "outputId": "cdbd9ea7-6047-44b9-fa1f-2e35ffe0c3d9"
      },
      "execution_count": 154,
      "outputs": [
        {
          "output_type": "stream",
          "name": "stdout",
          "text": [
            "dict_keys(['Aguascalientes', 'Baja California', 'Campeche', 'Chihuahua', 'Chiapas'])\n"
          ]
        }
      ]
    },
    {
      "cell_type": "code",
      "source": [
        "#De manera especifica también podemos imprimir la clace de algún estado especifico\n",
        "#por ejemplo: campeche\n",
        "\n",
        "print(mexico['Campeche'])"
      ],
      "metadata": {
        "colab": {
          "base_uri": "https://localhost:8080/"
        },
        "id": "cGSKNXLryR38",
        "outputId": "85d63b0a-957c-4e21-f677-69b3cbd1d14d"
      },
      "execution_count": 155,
      "outputs": [
        {
          "output_type": "stream",
          "name": "stdout",
          "text": [
            "San Francisco de Campeche\n"
          ]
        }
      ]
    },
    {
      "cell_type": "markdown",
      "source": [
        "También podemos crear diccionarios más complejos con otras key-values,\n",
        "entonces vamos  a definir un otro diccionario de estados pero agregaremos ahora como clave capita, y población, así como sus valores correspondientes.\n"
      ],
      "metadata": {
        "id": "cNd76UoqzJfG"
      }
    },
    {
      "cell_type": "code",
      "source": [
        "Mexico = {'Aguascalientes':{'capital':'Aguascalientes','población':'1,425,607'},\n",
        "          'Baja California':{'capital':'Mexicali', 'población':'3,769,020'},\n",
        "          'Campeche':{'capital':'San Francisco de Campeche','población':'928,363'},\n",
        "          'Chihuahua':{'capital':'Chihuahua', 'población':'3,741,869'},\n",
        "          'Chiapas':{'capital':'Tuxtla Gutiérrez','población':' 5,543,828'}}\n"
      ],
      "metadata": {
        "id": "0tlMNgt8yi50"
      },
      "execution_count": 159,
      "outputs": []
    },
    {
      "cell_type": "code",
      "source": [
        "#imprimimos la capital de Campeche\n",
        "\n",
        "print(Mexico['Campeche']['capital'])"
      ],
      "metadata": {
        "colab": {
          "base_uri": "https://localhost:8080/"
        },
        "id": "gHnJpMlL1Eo1",
        "outputId": "1dedee83-15a8-4af3-fbc2-158a234385ea"
      },
      "execution_count": 160,
      "outputs": [
        {
          "output_type": "stream",
          "name": "stdout",
          "text": [
            "San Francisco de Campeche\n"
          ]
        }
      ]
    },
    {
      "cell_type": "code",
      "source": [
        "print(Mexico)"
      ],
      "metadata": {
        "colab": {
          "base_uri": "https://localhost:8080/"
        },
        "id": "wOEW2r_61VLL",
        "outputId": "b6d20e5f-8dc5-4156-b97d-f48f68184091"
      },
      "execution_count": 161,
      "outputs": [
        {
          "output_type": "stream",
          "name": "stdout",
          "text": [
            "{'Aguascalientes': {'capital': 'Aguascalientes', 'población': '1,425,607'}, 'Baja California': {'capital': 'Mexicali', 'población': '3,769,020'}, 'Campeche': {'capital': 'San Francisco de Campeche', 'población': '928,363'}, 'Chihuahua': {'capital': 'Chihuahua', 'población': '3,741,869'}, 'Chiapas': {'capital': 'Tuxtla Gutiérrez', 'población': ' 5,543,828'}}\n"
          ]
        }
      ]
    },
    {
      "cell_type": "markdown",
      "source": [
        "Matplotlib permite hacer uso de los diccionarios,  tomando el argumento de la palabra clave  de datos, ya que al proporcionarse puede generar una gráfica con las cadenas correspondientes a sus variables.\n",
        "Veamos el siguente ejemplo:"
      ],
      "metadata": {
        "id": "tTYRDY4X1tRd"
      }
    },
    {
      "cell_type": "code",
      "source": [
        "#Generamos un diccionario \"datos\" con las siguientes caracteristicas\n",
        "data = {'a':np.arange(50),\n",
        "         'c':np.random.randint(0,50,50),\n",
        "         'd':np.random.randn(50)}\n",
        "#Y podemos agregar datos con diferentes caracteristicas\n",
        "data['b']=data['a']+ 10*np.random.randn(50)\n",
        "data['d']=np.abs(data['d'])*100\n",
        "\n",
        "#Y graficamos\n",
        "plt.scatter('a','b', c='c', s='d', data=data)\n",
        "plt.xlabel('entrada A')\n",
        "plt.ylabel('entrada B')\n",
        "plt.show()"
      ],
      "metadata": {
        "colab": {
          "base_uri": "https://localhost:8080/",
          "height": 457
        },
        "id": "r-9MeSzu1jF7",
        "outputId": "a442af28-4b80-4957-ddb6-85ecfb59edda"
      },
      "execution_count": 174,
      "outputs": [
        {
          "output_type": "display_data",
          "data": {
            "text/plain": [
              "<Figure size 640x480 with 1 Axes>"
            ],
            "image/png": "[encoded data removed]"
          },
          "metadata": {}
        }
      ]
    },
    {
      "cell_type": "code",
      "source": [],
      "metadata": {
        "id": "QNIZ1nNW3uAd"
      },
      "execution_count": null,
      "outputs": []
    }
  ]
}