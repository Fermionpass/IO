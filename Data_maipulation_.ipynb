{
  "nbformat": 4,
  "nbformat_minor": 0,
  "metadata": {
    "colab": {
      "provenance": [],
      "authorship_tag": "ABX9TyNm5QL1N/y7bhHiBIYpKhPb",
      "include_colab_link": true
    },
    "kernelspec": {
      "name": "python3",
      "display_name": "Python 3"
    },
    "language_info": {
      "name": "python"
    }
  },
  "cells": [
    {
      "cell_type": "markdown",
      "metadata": {
        "id": "view-in-github",
        "colab_type": "text"
      },
      "source": [
        "<a href=\"https://colab.research.google.com/github/Fermionpass/IO/blob/main/Data_maipulation_.ipynb\" target=\"_parent\"><img src=\"https://colab.research.google.com/assets/colab-badge.svg\" alt=\"Open In Colab\"/></a>"
      ]
    },
    {
      "cell_type": "markdown",
      "source": [
        "<hr style=\"margin-bottom: 40px;\">\n",
        "\n",
        "# Manipulación de datos / Data maipulation\n",
        " Este Template tiene como objetivo poder manipular datos, ya sean datos generados artificialmente o  trabajar con bases de datos  recopilados\n",
        "o bien existentes en la red.\n",
        "\n",
        "Comenzaré con un repaso de *numpy* y  *pandas* ,como complemento se trabajará con la librería de *matplotlib* y Seaborn*, para poder visualizar\n",
        "los datos generados u obtenidos de la red.\n",
        "\n",
        "# Arreglos\n",
        "\n",
        "Los arreglos son un conjunto de datos ordenados en forma de secuencias, con estructura similar a listas. Estos arreglos represnetatn valores, los cuales pueden ser puntos flotantes, números enteros o caracteres.\n",
        "En particular los arreglos en *numpy*, los cuales generalmente son concebidos como matrices o vectores"
      ],
      "metadata": {
        "id": "9lhImtUhn5wN"
      }
    },
    {
      "cell_type": "code",
      "execution_count": 3,
      "metadata": {
        "colab": {
          "base_uri": "https://localhost:8080/"
        },
        "id": "uEJLZM0Onz-B",
        "outputId": "39a3b300-abcf-40e5-9b63-5d9adba5f5c0"
      },
      "outputs": [
        {
          "output_type": "stream",
          "name": "stdout",
          "text": [
            "Este es un ejemplo de un arreglode una dimensión a = [1 2 3]\n"
          ]
        }
      ],
      "source": [
        "# Primero se va  importar la libreria de numpy para poder definir arreglos\n",
        "import numpy as np\n",
        "\n",
        "a =  np.array([1,2,3])\n",
        "print('Este es un ejemplo de un arreglode una dimensión a =', a)\n"
      ]
    },
    {
      "cell_type": "code",
      "source": [
        "# Numpy también permite la creación de arreglos de mayor dimensión\n",
        "b = np.array([[12,13],[14,15]])\n",
        "print('Este es un arreglo de una dimensión mayor b=', b)\n",
        "\n"
      ],
      "metadata": {
        "colab": {
          "base_uri": "https://localhost:8080/"
        },
        "id": "oKRRt8OMoab8",
        "outputId": "c714a340-9ef8-4c84-f345-1680e62df438"
      },
      "execution_count": 4,
      "outputs": [
        {
          "output_type": "stream",
          "name": "stdout",
          "text": [
            "Este es un arreglo de una dimensión mayor b= [[12 13]\n",
            " [14 15]]\n"
          ]
        }
      ]
    },
    {
      "cell_type": "code",
      "source": [
        "c = np.array([3,4,5], dtype=complex)\n",
        "print('o de tipo definido c=', c)\n"
      ],
      "metadata": {
        "colab": {
          "base_uri": "https://localhost:8080/"
        },
        "id": "ZoxkFq1lrDw-",
        "outputId": "8280ea70-1a45-4851-cbe4-0ff97935c99a"
      },
      "execution_count": 5,
      "outputs": [
        {
          "output_type": "stream",
          "name": "stdout",
          "text": [
            "o de tipo definido c= [3.+0.j 4.+0.j 5.+0.j]\n"
          ]
        }
      ]
    },
    {
      "cell_type": "code",
      "source": [
        "#Podemos generar arreglos vacios, este comando no nos envia una matriz en cero, aunque\n",
        "#hay que establecer los valores de la matriz\n",
        "d = np.empty([2,2])\n",
        "print('Se define el tipo de arreglo o forma del arreglo de d = ', d)\n"
      ],
      "metadata": {
        "colab": {
          "base_uri": "https://localhost:8080/"
        },
        "id": "uU6zEXW0rofe",
        "outputId": "f2b1e7e0-ea13-49e1-f77f-bf52ff5aa381"
      },
      "execution_count": 7,
      "outputs": [
        {
          "output_type": "stream",
          "name": "stdout",
          "text": [
            "Se define el tipo de arreglo o forma del arreglo de d =  [[5.00470418e-310 0.00000000e+000]\n",
            " [6.60247638e-310 6.60247638e-310]]\n"
          ]
        }
      ]
    },
    {
      "cell_type": "code",
      "source": [
        "#Numpy también nos permite definir el tipo de objeto en el arreglo y si\n",
        "#se trata de datos de orden multiple en forma de fila o columba en la memoria principal\n",
        "e = np.empty([3,3], dtype = int, order='F')\n",
        "print('Se definer el order en formato de  fortran para el arreglo e =',e)\n",
        "\n"
      ],
      "metadata": {
        "colab": {
          "base_uri": "https://localhost:8080/"
        },
        "id": "uxV_Fc4VtPV-",
        "outputId": "15465595-ccfa-44c7-a420-3e669048d0ca"
      },
      "execution_count": 11,
      "outputs": [
        {
          "output_type": "stream",
          "name": "stdout",
          "text": [
            "Se definer el order en formato de  fortran para el arreglo e = [[101296348987959               0               0]\n",
            " [              0               0               0]\n",
            " [              0               0               0]]\n"
          ]
        }
      ]
    },
    {
      "cell_type": "code",
      "source": [
        "#Podemos incluso definir un arreglo de ceros o unos\n",
        "f=np.zeros([5,5],dtype=complex, order='F')\n",
        "print('Definimos un arreglo de ceros  f=', f)"
      ],
      "metadata": {
        "colab": {
          "base_uri": "https://localhost:8080/"
        },
        "id": "OLuqPg1Ivg-H",
        "outputId": "8061b3d0-2c42-4da7-ab15-52a4ae90243a"
      },
      "execution_count": 20,
      "outputs": [
        {
          "output_type": "stream",
          "name": "stdout",
          "text": [
            "Definimos un arreglo de ceros  f= [[0.+0.j 0.+0.j 0.+0.j 0.+0.j 0.+0.j]\n",
            " [0.+0.j 0.+0.j 0.+0.j 0.+0.j 0.+0.j]\n",
            " [0.+0.j 0.+0.j 0.+0.j 0.+0.j 0.+0.j]\n",
            " [0.+0.j 0.+0.j 0.+0.j 0.+0.j 0.+0.j]\n",
            " [0.+0.j 0.+0.j 0.+0.j 0.+0.j 0.+0.j]]\n"
          ]
        }
      ]
    },
    {
      "cell_type": "code",
      "source": [
        "# Podemos generar un arreglo de numeros espaciados uniformemente en un intervalo especifico\n",
        "# [inicio, final], y además definir el tipo de valor.\n",
        "g = np.linspace(2,6, num=10, dtype=int)\n",
        "print('Generamos un arreglo de 10 valores enteros  en el intervalo [2,6], g= ',g)\n",
        "#Aunqe el tipo de valor puede ser diferente y con o sin punto final."
      ],
      "metadata": {
        "colab": {
          "base_uri": "https://localhost:8080/"
        },
        "id": "Klj835R_wSnu",
        "outputId": "e521f316-9a8f-4bdf-9927-8a3c01a81a6b"
      },
      "execution_count": 24,
      "outputs": [
        {
          "output_type": "stream",
          "name": "stdout",
          "text": [
            "Generamos un arreglo de 10 valores enteros  en el intervalo [2,6], g=  [2 2 2 3 3 4 4 5 5 6]\n"
          ]
        }
      ]
    },
    {
      "cell_type": "markdown",
      "source": [
        "# Graficas  generadas con linspace y matplolib\n",
        "Con la librería de matplotlib y numpy podemos crear visualizaciones de nuestros datos, como si representarmos los valores de una función, por ejemplo podemos generar una grafica para la función f(x) = x^2.\n",
        "\n"
      ],
      "metadata": {
        "id": "BoQicVFjyIe_"
      }
    },
    {
      "cell_type": "code",
      "source": [
        "# Primero importamos la libreria de matplolib y numpy, debemos también definir el intevalo  de nuestra función\n",
        "#en este caso vamos a tomar los valores entre 0 y 9, pero unicamente los enteros\n",
        "import matplotlib.pyplot as plt\n",
        "\n",
        "#definimos nuestra función\n",
        "\n",
        "def f(x):\n",
        "  return x**2\n",
        "#definimos nuestro intervalo\n",
        "x1 = np.linspace(0,9, num = 10, dtype= int)\n",
        "\n",
        "#definimos nuestra grafica\n",
        "plt.plot(x1,f(x1),'o')\n",
        "\n",
        "plt.show()\n",
        "\n",
        "\n",
        "\n",
        "\n"
      ],
      "metadata": {
        "colab": {
          "base_uri": "https://localhost:8080/",
          "height": 430
        },
        "id": "xgt0T9QYw6vJ",
        "outputId": "ba681c8e-11d6-438c-df31-468b3132164d"
      },
      "execution_count": 26,
      "outputs": [
        {
          "output_type": "display_data",
          "data": {
            "text/plain": [
              "<Figure size 640x480 with 1 Axes>"
            ],
            "image/png": "[encoded data removed]"
          },
          "metadata": {}
        }
      ]
    },
    {
      "cell_type": "code",
      "source": [
        "# Aunque en el ejemplo anterior definimos una función para  crear nuestra grafica,\n",
        "#también podemos hacerlo desde la libreria de matplotlib al definir la curva que deseamos ver\n",
        "#Definimos otro intervalo para las siguientes graficas\n",
        "\n",
        "x = np.linspace(0,2,100) # en este ejmplo omitimos algunos datos, pero el resultado es el mismo\n",
        "\n",
        "plt.plot(x,x, label='lineal') # label nos permite asignar una etiqueta a nuestra curva\n",
        "plt.plot(x,x**2, label='cuadratica')\n",
        "plt.plot(x, x**3, label='cubica')\n",
        "\n",
        "#Podemos agragar etiquetas a los ejes\n",
        "\n",
        "plt.xlabel('x')\n",
        "plt.ylabel('y')\n",
        "\n",
        "#Agregamos un titulo a  nuestra grafica\n",
        "plt.title('Curvas')\n",
        "\n",
        "plt.legend() # nos agrea la leyenda de  nuestras curvas.\n",
        "plt.show()\n",
        "\n"
      ],
      "metadata": {
        "colab": {
          "base_uri": "https://localhost:8080/",
          "height": 472
        },
        "id": "qnoLesRT0Kj-",
        "outputId": "727bc24d-7484-404b-a439-b74929652844"
      },
      "execution_count": 29,
      "outputs": [
        {
          "output_type": "display_data",
          "data": {
            "text/plain": [
              "<Figure size 640x480 with 1 Axes>"
            ],
            "image/png": "[encoded data removed]"
          },
          "metadata": {}
        }
      ]
    },
    {
      "cell_type": "markdown",
      "source": [
        "*Numpy* también nos permite generear matrices de distintos tipos, indentidad o diagonales."
      ],
      "metadata": {
        "id": "F1IIf1xO3LKB"
      }
    },
    {
      "cell_type": "code",
      "source": [
        "#Empleamos la rutina eye para generar una matriz de 3x3 diagonal\n",
        "\n",
        "h = np.eye(3, dtype=int)\n",
        "print('creamos una matriz de 3x3 diagonal h=', h)\n",
        "\n"
      ],
      "metadata": {
        "colab": {
          "base_uri": "https://localhost:8080/"
        },
        "id": "OAmFq0E32tSV",
        "outputId": "dba5dbd3-f054-41d0-9674-7809a038cfae"
      },
      "execution_count": 30,
      "outputs": [
        {
          "output_type": "stream",
          "name": "stdout",
          "text": [
            "creamos una matriz de 3x3 diagonal h= [[1 0 0]\n",
            " [0 1 0]\n",
            " [0 0 1]]\n"
          ]
        }
      ]
    },
    {
      "cell_type": "code",
      "source": [
        "#una manera más simple\n",
        "I = np.identity(3)\n",
        "print('muestra la matriz identidad I=',I)"
      ],
      "metadata": {
        "colab": {
          "base_uri": "https://localhost:8080/"
        },
        "id": "JiPIPwYS4Fr-",
        "outputId": "5209c17b-c91b-406e-fa85-239b72bdb9c0"
      },
      "execution_count": 31,
      "outputs": [
        {
          "output_type": "stream",
          "name": "stdout",
          "text": [
            "muestra la matriz identidad I= [[1. 0. 0.]\n",
            " [0. 1. 0.]\n",
            " [0. 0. 1.]]\n"
          ]
        }
      ]
    },
    {
      "cell_type": "code",
      "source": [
        "#Se puede cambiar el orden de la diagonal principal,siendo las opciones: 0 corresponde a la\n",
        "#diagonal principa,  k>0 una diagonal superior  y para 0>k un a diagonal inferior\n",
        "\n",
        "J = np.eye(3,k=0)\n",
        "L = np.eye(3,k=1)\n",
        "M = np.eye(3,k=-1)\n",
        "\n",
        "print('Para k=0, tenemos la diagonal principal en J=',J)\n",
        "print('Para k=1, tenemos la diagonal superior en L=',L)\n",
        "print('Para k=-1, tenemos la diagonal inferior en K=',M)\n"
      ],
      "metadata": {
        "colab": {
          "base_uri": "https://localhost:8080/"
        },
        "id": "yFl4rRGv4bTu",
        "outputId": "fe74ea78-3783-496d-f48f-1dace133a59a"
      },
      "execution_count": 33,
      "outputs": [
        {
          "output_type": "stream",
          "name": "stdout",
          "text": [
            "Para k=0, tenemos la diagonal principal en J= [[1. 0. 0.]\n",
            " [0. 1. 0.]\n",
            " [0. 0. 1.]]\n",
            "Para k=1, tenemos la diagonal superior en L= [[0. 1. 0.]\n",
            " [0. 0. 1.]\n",
            " [0. 0. 0.]]\n",
            "Para k=-1, tenemos la diagonal inferior en K= [[0. 0. 0.]\n",
            " [1. 0. 0.]\n",
            " [0. 1. 0.]]\n"
          ]
        }
      ]
    },
    {
      "cell_type": "code",
      "source": [
        "#Arreglos de unos\n",
        "N=np.ones(7)\n",
        "\n",
        "print('Podemos generar un arreglo de unos como N=',N)"
      ],
      "metadata": {
        "colab": {
          "base_uri": "https://localhost:8080/"
        },
        "id": "8LmSyzUVPz8F",
        "outputId": "faeaa681-66ec-443a-a66d-997870c8821d"
      },
      "execution_count": 38,
      "outputs": [
        {
          "output_type": "stream",
          "name": "stdout",
          "text": [
            "Podemos generar un arreglo de unos como N= [1. 1. 1. 1. 1. 1. 1.]\n"
          ]
        }
      ]
    },
    {
      "cell_type": "code",
      "source": [
        "X2 = np.arange(6)\n",
        "print(X2)"
      ],
      "metadata": {
        "colab": {
          "base_uri": "https://localhost:8080/"
        },
        "id": "4enznr1FQonU",
        "outputId": "23b56bd6-5bf3-48f0-9dd3-20df2541867a"
      },
      "execution_count": 43,
      "outputs": [
        {
          "output_type": "stream",
          "name": "stdout",
          "text": [
            "[0 1 2 3 4 5]\n"
          ]
        }
      ]
    },
    {
      "cell_type": "code",
      "source": [
        "X2= X2.reshape((2,3))\n",
        "print(X2)"
      ],
      "metadata": {
        "colab": {
          "base_uri": "https://localhost:8080/"
        },
        "id": "7RdMg0yYRPY2",
        "outputId": "2f8e6249-054b-4eb9-b615-0b049a918ea3"
      },
      "execution_count": 45,
      "outputs": [
        {
          "output_type": "stream",
          "name": "stdout",
          "text": [
            "[[0 1 2]\n",
            " [3 4 5]]\n"
          ]
        }
      ]
    },
    {
      "cell_type": "code",
      "source": [
        "Y =np.ones_like(X2)\n",
        "print(Y)"
      ],
      "metadata": {
        "colab": {
          "base_uri": "https://localhost:8080/"
        },
        "id": "rHa6ZhgNRk3F",
        "outputId": "0ae4bae5-31b3-4fdd-c066-767937f17301"
      },
      "execution_count": 46,
      "outputs": [
        {
          "output_type": "stream",
          "name": "stdout",
          "text": [
            "[[1 1 1]\n",
            " [1 1 1]]\n"
          ]
        }
      ]
    },
    {
      "cell_type": "code",
      "source": [],
      "metadata": {
        "id": "NLaFD7pPR5-l"
      },
      "execution_count": null,
      "outputs": []
    }
  ]
}